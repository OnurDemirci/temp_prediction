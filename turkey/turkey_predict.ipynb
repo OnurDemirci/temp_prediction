{
 "cells": [
  {
   "cell_type": "code",
   "execution_count": 2,
   "metadata": {},
   "outputs": [],
   "source": [
    "import findspark\n",
    "findspark.init(\"C:\\spark-3.0.0\")"
   ]
  },
  {
   "cell_type": "code",
   "execution_count": 3,
   "metadata": {},
   "outputs": [],
   "source": [
    "from pyspark import SparkContext\n",
    "import pandas as pd\n",
    "from statsmodels.tsa.arima_model import ARIMA\n",
    "import numpy as np"
   ]
  },
  {
   "cell_type": "code",
   "execution_count": 4,
   "metadata": {},
   "outputs": [],
   "source": [
    "import pyspark\n",
    "from pyspark.sql import SparkSession\n",
    "from pyspark.conf import SparkConf\n",
    "\n",
    "spark = SparkSession.builder \\\n",
    "    .master(\"local\") \\\n",
    "    .appName(\"climateChange\") \\\n",
    "    .getOrCreate()"
   ]
  },
  {
   "cell_type": "code",
   "execution_count": 5,
   "metadata": {},
   "outputs": [
    {
     "data": {
      "text/html": [
       "\n",
       "            <div>\n",
       "                <p><b>SparkSession - in-memory</b></p>\n",
       "                \n",
       "        <div>\n",
       "            <p><b>SparkContext</b></p>\n",
       "\n",
       "            <p><a href=\"http://Excalibur:4040\">Spark UI</a></p>\n",
       "\n",
       "            <dl>\n",
       "              <dt>Version</dt>\n",
       "                <dd><code>v3.0.0-preview</code></dd>\n",
       "              <dt>Master</dt>\n",
       "                <dd><code>local</code></dd>\n",
       "              <dt>AppName</dt>\n",
       "                <dd><code>climateChange</code></dd>\n",
       "            </dl>\n",
       "        </div>\n",
       "        \n",
       "            </div>\n",
       "        "
      ],
      "text/plain": [
       "<pyspark.sql.session.SparkSession at 0x24fcd5b1808>"
      ]
     },
     "execution_count": 5,
     "metadata": {},
     "output_type": "execute_result"
    }
   ],
   "source": [
    "spark"
   ]
  },
  {
   "cell_type": "code",
   "execution_count": 6,
   "metadata": {},
   "outputs": [],
   "source": [
    "df = spark.read.csv(\"TemperaturesByCountry.csv\",\n",
    "                   header = True,\n",
    "                   inferSchema = True,\n",
    "                   sep = \",\")"
   ]
  },
  {
   "cell_type": "code",
   "execution_count": 7,
   "metadata": {},
   "outputs": [
    {
     "name": "stdout",
     "output_type": "stream",
     "text": [
      "+----------+------------------+-----------------------------+-------+\n",
      "|        dt|AverageTemperature|AverageTemperatureUncertainty|Country|\n",
      "+----------+------------------+-----------------------------+-------+\n",
      "|1777-02-01|               3.0|                        3.314| Turkey|\n",
      "|1777-03-01|              null|                         null| Turkey|\n",
      "|1777-04-01| 7.678000000000001|                        2.553| Turkey|\n",
      "|1777-05-01|            15.293|                        3.189| Turkey|\n",
      "|1777-06-01|18.660999999999998|           2.9930000000000003| Turkey|\n",
      "|1777-07-01|20.756999999999998|                        2.643| Turkey|\n",
      "|1777-08-01|            21.561|           2.6010000000000004| Turkey|\n",
      "|1777-09-01|            17.939|                        3.793| Turkey|\n",
      "|1777-10-01|            11.046|                        4.003| Turkey|\n",
      "|1777-11-01|             7.725|           2.7060000000000004| Turkey|\n",
      "|1777-12-01|             3.225|                        2.757| Turkey|\n",
      "|1778-01-01|             2.101|                        3.276| Turkey|\n",
      "|1778-02-01|3.6830000000000003|                         3.15| Turkey|\n",
      "|1778-03-01|             4.966|                        3.487| Turkey|\n",
      "|1778-04-01|12.853000000000002|           2.5340000000000003| Turkey|\n",
      "|1778-05-01|15.234000000000002|                        2.952| Turkey|\n",
      "|1778-06-01|            18.079|                        4.395| Turkey|\n",
      "|1778-07-01|            23.288|                        2.595| Turkey|\n",
      "|1778-08-01|            21.682|                        3.063| Turkey|\n",
      "|1778-09-01|            19.916|           2.4930000000000003| Turkey|\n",
      "+----------+------------------+-----------------------------+-------+\n",
      "only showing top 20 rows\n",
      "\n"
     ]
    }
   ],
   "source": [
    "df.filter(df.Country == \"Turkey\").show()"
   ]
  },
  {
   "cell_type": "code",
   "execution_count": 8,
   "metadata": {},
   "outputs": [],
   "source": [
    "turkey = df.filter(df.Country == \"Turkey\") "
   ]
  },
  {
   "cell_type": "code",
   "execution_count": 9,
   "metadata": {},
   "outputs": [],
   "source": [
    "turkey = turkey.toPandas()"
   ]
  },
  {
   "cell_type": "code",
   "execution_count": 10,
   "metadata": {},
   "outputs": [],
   "source": [
    "turkey = turkey.drop([\"AverageTemperatureUncertainty\"], axis = 1)"
   ]
  },
  {
   "cell_type": "code",
   "execution_count": 11,
   "metadata": {},
   "outputs": [
    {
     "data": {
      "text/html": [
       "<div>\n",
       "<style scoped>\n",
       "    .dataframe tbody tr th:only-of-type {\n",
       "        vertical-align: middle;\n",
       "    }\n",
       "\n",
       "    .dataframe tbody tr th {\n",
       "        vertical-align: top;\n",
       "    }\n",
       "\n",
       "    .dataframe thead th {\n",
       "        text-align: right;\n",
       "    }\n",
       "</style>\n",
       "<table border=\"1\" class=\"dataframe\">\n",
       "  <thead>\n",
       "    <tr style=\"text-align: right;\">\n",
       "      <th></th>\n",
       "      <th>dt</th>\n",
       "      <th>AverageTemperature</th>\n",
       "      <th>Country</th>\n",
       "    </tr>\n",
       "  </thead>\n",
       "  <tbody>\n",
       "    <tr>\n",
       "      <td>0</td>\n",
       "      <td>1777-02-01</td>\n",
       "      <td>3.000</td>\n",
       "      <td>Turkey</td>\n",
       "    </tr>\n",
       "    <tr>\n",
       "      <td>1</td>\n",
       "      <td>1777-03-01</td>\n",
       "      <td>NaN</td>\n",
       "      <td>Turkey</td>\n",
       "    </tr>\n",
       "    <tr>\n",
       "      <td>2</td>\n",
       "      <td>1777-04-01</td>\n",
       "      <td>7.678</td>\n",
       "      <td>Turkey</td>\n",
       "    </tr>\n",
       "    <tr>\n",
       "      <td>3</td>\n",
       "      <td>1777-05-01</td>\n",
       "      <td>15.293</td>\n",
       "      <td>Turkey</td>\n",
       "    </tr>\n",
       "    <tr>\n",
       "      <td>4</td>\n",
       "      <td>1777-06-01</td>\n",
       "      <td>18.661</td>\n",
       "      <td>Turkey</td>\n",
       "    </tr>\n",
       "    <tr>\n",
       "      <td>...</td>\n",
       "      <td>...</td>\n",
       "      <td>...</td>\n",
       "      <td>...</td>\n",
       "    </tr>\n",
       "    <tr>\n",
       "      <td>2835</td>\n",
       "      <td>2013-05-01</td>\n",
       "      <td>17.522</td>\n",
       "      <td>Turkey</td>\n",
       "    </tr>\n",
       "    <tr>\n",
       "      <td>2836</td>\n",
       "      <td>2013-06-01</td>\n",
       "      <td>20.862</td>\n",
       "      <td>Turkey</td>\n",
       "    </tr>\n",
       "    <tr>\n",
       "      <td>2837</td>\n",
       "      <td>2013-07-01</td>\n",
       "      <td>23.335</td>\n",
       "      <td>Turkey</td>\n",
       "    </tr>\n",
       "    <tr>\n",
       "      <td>2838</td>\n",
       "      <td>2013-08-01</td>\n",
       "      <td>23.839</td>\n",
       "      <td>Turkey</td>\n",
       "    </tr>\n",
       "    <tr>\n",
       "      <td>2839</td>\n",
       "      <td>2013-09-01</td>\n",
       "      <td>NaN</td>\n",
       "      <td>Turkey</td>\n",
       "    </tr>\n",
       "  </tbody>\n",
       "</table>\n",
       "<p>2840 rows × 3 columns</p>\n",
       "</div>"
      ],
      "text/plain": [
       "              dt  AverageTemperature Country\n",
       "0     1777-02-01               3.000  Turkey\n",
       "1     1777-03-01                 NaN  Turkey\n",
       "2     1777-04-01               7.678  Turkey\n",
       "3     1777-05-01              15.293  Turkey\n",
       "4     1777-06-01              18.661  Turkey\n",
       "...          ...                 ...     ...\n",
       "2835  2013-05-01              17.522  Turkey\n",
       "2836  2013-06-01              20.862  Turkey\n",
       "2837  2013-07-01              23.335  Turkey\n",
       "2838  2013-08-01              23.839  Turkey\n",
       "2839  2013-09-01                 NaN  Turkey\n",
       "\n",
       "[2840 rows x 3 columns]"
      ]
     },
     "execution_count": 11,
     "metadata": {},
     "output_type": "execute_result"
    }
   ],
   "source": [
    "turkey"
   ]
  },
  {
   "cell_type": "code",
   "execution_count": 12,
   "metadata": {},
   "outputs": [],
   "source": [
    "turkey = turkey.iloc[120:]"
   ]
  },
  {
   "cell_type": "code",
   "execution_count": 13,
   "metadata": {},
   "outputs": [],
   "source": [
    "turkey =turkey.iloc[:-9]"
   ]
  },
  {
   "cell_type": "code",
   "execution_count": 14,
   "metadata": {},
   "outputs": [
    {
     "data": {
      "text/html": [
       "<div>\n",
       "<style scoped>\n",
       "    .dataframe tbody tr th:only-of-type {\n",
       "        vertical-align: middle;\n",
       "    }\n",
       "\n",
       "    .dataframe tbody tr th {\n",
       "        vertical-align: top;\n",
       "    }\n",
       "\n",
       "    .dataframe thead th {\n",
       "        text-align: right;\n",
       "    }\n",
       "</style>\n",
       "<table border=\"1\" class=\"dataframe\">\n",
       "  <thead>\n",
       "    <tr style=\"text-align: right;\">\n",
       "      <th></th>\n",
       "      <th>dt</th>\n",
       "      <th>AverageTemperature</th>\n",
       "      <th>Country</th>\n",
       "    </tr>\n",
       "  </thead>\n",
       "  <tbody>\n",
       "    <tr>\n",
       "      <td>120</td>\n",
       "      <td>1787-02-01</td>\n",
       "      <td>1.758</td>\n",
       "      <td>Turkey</td>\n",
       "    </tr>\n",
       "    <tr>\n",
       "      <td>121</td>\n",
       "      <td>1787-03-01</td>\n",
       "      <td>5.665</td>\n",
       "      <td>Turkey</td>\n",
       "    </tr>\n",
       "    <tr>\n",
       "      <td>122</td>\n",
       "      <td>1787-04-01</td>\n",
       "      <td>9.114</td>\n",
       "      <td>Turkey</td>\n",
       "    </tr>\n",
       "    <tr>\n",
       "      <td>123</td>\n",
       "      <td>1787-05-01</td>\n",
       "      <td>15.138</td>\n",
       "      <td>Turkey</td>\n",
       "    </tr>\n",
       "    <tr>\n",
       "      <td>124</td>\n",
       "      <td>1787-06-01</td>\n",
       "      <td>20.516</td>\n",
       "      <td>Turkey</td>\n",
       "    </tr>\n",
       "    <tr>\n",
       "      <td>...</td>\n",
       "      <td>...</td>\n",
       "      <td>...</td>\n",
       "      <td>...</td>\n",
       "    </tr>\n",
       "    <tr>\n",
       "      <td>2826</td>\n",
       "      <td>2012-08-01</td>\n",
       "      <td>24.211</td>\n",
       "      <td>Turkey</td>\n",
       "    </tr>\n",
       "    <tr>\n",
       "      <td>2827</td>\n",
       "      <td>2012-09-01</td>\n",
       "      <td>21.021</td>\n",
       "      <td>Turkey</td>\n",
       "    </tr>\n",
       "    <tr>\n",
       "      <td>2828</td>\n",
       "      <td>2012-10-01</td>\n",
       "      <td>15.988</td>\n",
       "      <td>Turkey</td>\n",
       "    </tr>\n",
       "    <tr>\n",
       "      <td>2829</td>\n",
       "      <td>2012-11-01</td>\n",
       "      <td>10.001</td>\n",
       "      <td>Turkey</td>\n",
       "    </tr>\n",
       "    <tr>\n",
       "      <td>2830</td>\n",
       "      <td>2012-12-01</td>\n",
       "      <td>3.770</td>\n",
       "      <td>Turkey</td>\n",
       "    </tr>\n",
       "  </tbody>\n",
       "</table>\n",
       "<p>2711 rows × 3 columns</p>\n",
       "</div>"
      ],
      "text/plain": [
       "              dt  AverageTemperature Country\n",
       "120   1787-02-01               1.758  Turkey\n",
       "121   1787-03-01               5.665  Turkey\n",
       "122   1787-04-01               9.114  Turkey\n",
       "123   1787-05-01              15.138  Turkey\n",
       "124   1787-06-01              20.516  Turkey\n",
       "...          ...                 ...     ...\n",
       "2826  2012-08-01              24.211  Turkey\n",
       "2827  2012-09-01              21.021  Turkey\n",
       "2828  2012-10-01              15.988  Turkey\n",
       "2829  2012-11-01              10.001  Turkey\n",
       "2830  2012-12-01               3.770  Turkey\n",
       "\n",
       "[2711 rows x 3 columns]"
      ]
     },
     "execution_count": 14,
     "metadata": {},
     "output_type": "execute_result"
    }
   ],
   "source": [
    "turkey"
   ]
  },
  {
   "cell_type": "code",
   "execution_count": 15,
   "metadata": {},
   "outputs": [],
   "source": [
    "turkey.to_csv(r'turkey.csv')"
   ]
  },
  {
   "cell_type": "code",
   "execution_count": 16,
   "metadata": {},
   "outputs": [
    {
     "data": {
      "text/html": [
       "<div>\n",
       "<style scoped>\n",
       "    .dataframe tbody tr th:only-of-type {\n",
       "        vertical-align: middle;\n",
       "    }\n",
       "\n",
       "    .dataframe tbody tr th {\n",
       "        vertical-align: top;\n",
       "    }\n",
       "\n",
       "    .dataframe thead th {\n",
       "        text-align: right;\n",
       "    }\n",
       "</style>\n",
       "<table border=\"1\" class=\"dataframe\">\n",
       "  <thead>\n",
       "    <tr style=\"text-align: right;\">\n",
       "      <th></th>\n",
       "      <th>Unnamed: 0</th>\n",
       "      <th>dt</th>\n",
       "      <th>AverageTemperature</th>\n",
       "      <th>Country</th>\n",
       "    </tr>\n",
       "  </thead>\n",
       "  <tbody>\n",
       "    <tr>\n",
       "      <td>0</td>\n",
       "      <td>120</td>\n",
       "      <td>1787-02-01</td>\n",
       "      <td>1.758</td>\n",
       "      <td>Turkey</td>\n",
       "    </tr>\n",
       "    <tr>\n",
       "      <td>1</td>\n",
       "      <td>121</td>\n",
       "      <td>1787-03-01</td>\n",
       "      <td>5.665</td>\n",
       "      <td>Turkey</td>\n",
       "    </tr>\n",
       "    <tr>\n",
       "      <td>2</td>\n",
       "      <td>122</td>\n",
       "      <td>1787-04-01</td>\n",
       "      <td>9.114</td>\n",
       "      <td>Turkey</td>\n",
       "    </tr>\n",
       "    <tr>\n",
       "      <td>3</td>\n",
       "      <td>123</td>\n",
       "      <td>1787-05-01</td>\n",
       "      <td>15.138</td>\n",
       "      <td>Turkey</td>\n",
       "    </tr>\n",
       "    <tr>\n",
       "      <td>4</td>\n",
       "      <td>124</td>\n",
       "      <td>1787-06-01</td>\n",
       "      <td>20.516</td>\n",
       "      <td>Turkey</td>\n",
       "    </tr>\n",
       "    <tr>\n",
       "      <td>...</td>\n",
       "      <td>...</td>\n",
       "      <td>...</td>\n",
       "      <td>...</td>\n",
       "      <td>...</td>\n",
       "    </tr>\n",
       "    <tr>\n",
       "      <td>2706</td>\n",
       "      <td>2826</td>\n",
       "      <td>2012-08-01</td>\n",
       "      <td>24.211</td>\n",
       "      <td>Turkey</td>\n",
       "    </tr>\n",
       "    <tr>\n",
       "      <td>2707</td>\n",
       "      <td>2827</td>\n",
       "      <td>2012-09-01</td>\n",
       "      <td>21.021</td>\n",
       "      <td>Turkey</td>\n",
       "    </tr>\n",
       "    <tr>\n",
       "      <td>2708</td>\n",
       "      <td>2828</td>\n",
       "      <td>2012-10-01</td>\n",
       "      <td>15.988</td>\n",
       "      <td>Turkey</td>\n",
       "    </tr>\n",
       "    <tr>\n",
       "      <td>2709</td>\n",
       "      <td>2829</td>\n",
       "      <td>2012-11-01</td>\n",
       "      <td>10.001</td>\n",
       "      <td>Turkey</td>\n",
       "    </tr>\n",
       "    <tr>\n",
       "      <td>2710</td>\n",
       "      <td>2830</td>\n",
       "      <td>2012-12-01</td>\n",
       "      <td>3.770</td>\n",
       "      <td>Turkey</td>\n",
       "    </tr>\n",
       "  </tbody>\n",
       "</table>\n",
       "<p>2711 rows × 4 columns</p>\n",
       "</div>"
      ],
      "text/plain": [
       "      Unnamed: 0          dt  AverageTemperature Country\n",
       "0            120  1787-02-01               1.758  Turkey\n",
       "1            121  1787-03-01               5.665  Turkey\n",
       "2            122  1787-04-01               9.114  Turkey\n",
       "3            123  1787-05-01              15.138  Turkey\n",
       "4            124  1787-06-01              20.516  Turkey\n",
       "...          ...         ...                 ...     ...\n",
       "2706        2826  2012-08-01              24.211  Turkey\n",
       "2707        2827  2012-09-01              21.021  Turkey\n",
       "2708        2828  2012-10-01              15.988  Turkey\n",
       "2709        2829  2012-11-01              10.001  Turkey\n",
       "2710        2830  2012-12-01               3.770  Turkey\n",
       "\n",
       "[2711 rows x 4 columns]"
      ]
     },
     "execution_count": 16,
     "metadata": {},
     "output_type": "execute_result"
    }
   ],
   "source": [
    "df = pd.read_csv('turkey.csv')\n",
    "df"
   ]
  },
  {
   "cell_type": "code",
   "execution_count": 17,
   "metadata": {},
   "outputs": [],
   "source": [
    "df = df.loc[:, ~df.columns.str.match('Unnamed')]"
   ]
  },
  {
   "cell_type": "code",
   "execution_count": 18,
   "metadata": {},
   "outputs": [
    {
     "data": {
      "text/html": [
       "<div>\n",
       "<style scoped>\n",
       "    .dataframe tbody tr th:only-of-type {\n",
       "        vertical-align: middle;\n",
       "    }\n",
       "\n",
       "    .dataframe tbody tr th {\n",
       "        vertical-align: top;\n",
       "    }\n",
       "\n",
       "    .dataframe thead th {\n",
       "        text-align: right;\n",
       "    }\n",
       "</style>\n",
       "<table border=\"1\" class=\"dataframe\">\n",
       "  <thead>\n",
       "    <tr style=\"text-align: right;\">\n",
       "      <th></th>\n",
       "      <th>dt</th>\n",
       "      <th>AverageTemperature</th>\n",
       "      <th>Country</th>\n",
       "    </tr>\n",
       "  </thead>\n",
       "  <tbody>\n",
       "    <tr>\n",
       "      <td>0</td>\n",
       "      <td>1787-02-01</td>\n",
       "      <td>1.758</td>\n",
       "      <td>Turkey</td>\n",
       "    </tr>\n",
       "    <tr>\n",
       "      <td>1</td>\n",
       "      <td>1787-03-01</td>\n",
       "      <td>5.665</td>\n",
       "      <td>Turkey</td>\n",
       "    </tr>\n",
       "    <tr>\n",
       "      <td>2</td>\n",
       "      <td>1787-04-01</td>\n",
       "      <td>9.114</td>\n",
       "      <td>Turkey</td>\n",
       "    </tr>\n",
       "    <tr>\n",
       "      <td>3</td>\n",
       "      <td>1787-05-01</td>\n",
       "      <td>15.138</td>\n",
       "      <td>Turkey</td>\n",
       "    </tr>\n",
       "    <tr>\n",
       "      <td>4</td>\n",
       "      <td>1787-06-01</td>\n",
       "      <td>20.516</td>\n",
       "      <td>Turkey</td>\n",
       "    </tr>\n",
       "    <tr>\n",
       "      <td>...</td>\n",
       "      <td>...</td>\n",
       "      <td>...</td>\n",
       "      <td>...</td>\n",
       "    </tr>\n",
       "    <tr>\n",
       "      <td>2706</td>\n",
       "      <td>2012-08-01</td>\n",
       "      <td>24.211</td>\n",
       "      <td>Turkey</td>\n",
       "    </tr>\n",
       "    <tr>\n",
       "      <td>2707</td>\n",
       "      <td>2012-09-01</td>\n",
       "      <td>21.021</td>\n",
       "      <td>Turkey</td>\n",
       "    </tr>\n",
       "    <tr>\n",
       "      <td>2708</td>\n",
       "      <td>2012-10-01</td>\n",
       "      <td>15.988</td>\n",
       "      <td>Turkey</td>\n",
       "    </tr>\n",
       "    <tr>\n",
       "      <td>2709</td>\n",
       "      <td>2012-11-01</td>\n",
       "      <td>10.001</td>\n",
       "      <td>Turkey</td>\n",
       "    </tr>\n",
       "    <tr>\n",
       "      <td>2710</td>\n",
       "      <td>2012-12-01</td>\n",
       "      <td>3.770</td>\n",
       "      <td>Turkey</td>\n",
       "    </tr>\n",
       "  </tbody>\n",
       "</table>\n",
       "<p>2711 rows × 3 columns</p>\n",
       "</div>"
      ],
      "text/plain": [
       "              dt  AverageTemperature Country\n",
       "0     1787-02-01               1.758  Turkey\n",
       "1     1787-03-01               5.665  Turkey\n",
       "2     1787-04-01               9.114  Turkey\n",
       "3     1787-05-01              15.138  Turkey\n",
       "4     1787-06-01              20.516  Turkey\n",
       "...          ...                 ...     ...\n",
       "2706  2012-08-01              24.211  Turkey\n",
       "2707  2012-09-01              21.021  Turkey\n",
       "2708  2012-10-01              15.988  Turkey\n",
       "2709  2012-11-01              10.001  Turkey\n",
       "2710  2012-12-01               3.770  Turkey\n",
       "\n",
       "[2711 rows x 3 columns]"
      ]
     },
     "execution_count": 18,
     "metadata": {},
     "output_type": "execute_result"
    }
   ],
   "source": [
    "#df = df.drop([\"Country\"],axis=1)\n",
    "df"
   ]
  },
  {
   "cell_type": "code",
   "execution_count": 19,
   "metadata": {},
   "outputs": [
    {
     "name": "stdout",
     "output_type": "stream",
     "text": [
      "Dataset 2675, Validation 36\n"
     ]
    }
   ],
   "source": [
    "#verimizi test ve train olarak ikiye ayırdık -test için 50 veri-\n",
    "split_point = len(df) - 36\n",
    "dataset, validation = df[0:split_point], df[split_point:]\n",
    "print('Dataset %d, Validation %d' % (len(dataset), len(validation)))\n",
    "#dataset.to_csv('dataset.csv', index=False)\n",
    "validation.round(3)\n",
    "dataset.round(3)\n",
    "dataset.to_csv('dataset_turkey.csv', index=False)\n",
    "validation.to_csv('validation_turkey.csv', index=False)"
   ]
  },
  {
   "cell_type": "code",
   "execution_count": 20,
   "metadata": {},
   "outputs": [],
   "source": [
    "def difference(dataset, interval=1):\n",
    "    diff = list()\n",
    "    for i in range(interval, len(dataset)):\n",
    "        value = dataset[i] - dataset[i - interval]\n",
    "        diff.append(value)\n",
    "    \n",
    "    print(diff)\n",
    "    return numpy.array(diff)"
   ]
  },
  {
   "cell_type": "code",
   "execution_count": 21,
   "metadata": {},
   "outputs": [],
   "source": [
    "def inverse_difference(history, yhat, interval=1):\n",
    "\treturn yhat + history[-interval]"
   ]
  },
  {
   "cell_type": "code",
   "execution_count": 22,
   "metadata": {},
   "outputs": [
    {
     "name": "stderr",
     "output_type": "stream",
     "text": [
      "C:\\Users\\Onur\\Anaconda3\\lib\\site-packages\\statsmodels\\base\\model.py:492: HessianInversionWarning: Inverting hessian failed, no bse or cov_params available\n",
      "  'available', HessianInversionWarning)\n",
      "C:\\Users\\Onur\\Anaconda3\\lib\\site-packages\\statsmodels\\base\\model.py:512: ConvergenceWarning: Maximum Likelihood optimization failed to converge. Check mle_retvals\n",
      "  \"Check mle_retvals\", ConvergenceWarning)\n"
     ]
    },
    {
     "name": "stdout",
     "output_type": "stream",
     "text": [
      "                              ARMA Model Results                              \n",
      "==============================================================================\n",
      "Dep. Variable:                      y   No. Observations:                 2310\n",
      "Model:                     ARMA(7, 7)   Log Likelihood               -4687.714\n",
      "Method:                       css-mle   S.D. of innovations              1.834\n",
      "Date:                Mon, 30 Dec 2019   AIC                           9407.428\n",
      "Time:                        13:45:53   BIC                           9499.348\n",
      "Sample:                             0   HQIC                          9440.934\n",
      "                                                                              \n",
      "==============================================================================\n",
      "                 coef    std err          z      P>|z|      [0.025      0.975]\n",
      "------------------------------------------------------------------------------\n",
      "const          0.0770        nan        nan        nan         nan         nan\n",
      "ar.L1.y        0.4055    6.1e-06   6.65e+04      0.000       0.405       0.405\n",
      "ar.L2.y        0.1377        nan        nan        nan         nan         nan\n",
      "ar.L3.y       -0.4077        nan        nan        nan         nan         nan\n",
      "ar.L4.y        0.5673   2.15e-06   2.64e+05      0.000       0.567       0.567\n",
      "ar.L5.y       -0.5786   1.78e-05  -3.25e+04      0.000      -0.579      -0.579\n",
      "ar.L6.y       -0.5638   1.83e-05  -3.08e+04      0.000      -0.564      -0.564\n",
      "ar.L7.y        0.2325   1.25e-06   1.86e+05      0.000       0.232       0.232\n",
      "ma.L1.y       -0.0610      0.024     -2.511      0.012      -0.109      -0.013\n",
      "ma.L2.y       -0.1739      0.017    -10.477      0.000      -0.206      -0.141\n",
      "ma.L3.y        0.3684      0.014     26.827      0.000       0.342       0.395\n",
      "ma.L4.y       -0.4516      0.013    -34.023      0.000      -0.478      -0.426\n",
      "ma.L5.y        0.4115      0.021     19.811      0.000       0.371       0.452\n",
      "ma.L6.y        0.6900      0.019     37.044      0.000       0.654       0.727\n",
      "ma.L7.y        0.0019      0.021      0.090      0.928      -0.039       0.043\n",
      "                                    Roots                                    \n",
      "=============================================================================\n",
      "                  Real          Imaginary           Modulus         Frequency\n",
      "-----------------------------------------------------------------------------\n",
      "AR.1           -1.1707           -0.2091j            1.1892           -0.4719\n",
      "AR.2           -1.1707           +0.2091j            1.1892            0.4719\n",
      "AR.3           -0.0002           -1.0011j            1.0011           -0.2500\n",
      "AR.4           -0.0002           +1.0011j            1.0011            0.2500\n",
      "AR.5            0.8660           -0.5000j            1.0000           -0.0833\n",
      "AR.6            0.8660           +0.5000j            1.0000            0.0833\n",
      "AR.7            3.0352           -0.0000j            3.0352           -0.0000\n",
      "MA.1            0.8719           -0.5040j            1.0071           -0.0834\n",
      "MA.2            0.8719           +0.5040j            1.0071            0.0834\n",
      "MA.3            0.0025           -1.0061j            1.0061           -0.2496\n",
      "MA.4            0.0025           +1.0061j            1.0061            0.2496\n",
      "MA.5           -1.1740           -0.1891j            1.1891           -0.4746\n",
      "MA.6           -1.1740           +0.1891j            1.1891            0.4746\n",
      "MA.7         -361.4747           -0.0000j          361.4747           -0.5000\n",
      "-----------------------------------------------------------------------------\n"
     ]
    },
    {
     "name": "stderr",
     "output_type": "stream",
     "text": [
      "C:\\Users\\Onur\\Anaconda3\\lib\\site-packages\\statsmodels\\tsa\\arima_model.py:1441: RuntimeWarning: invalid value encountered in sqrt\n",
      "  return np.sqrt(np.diag(-inv(hess)))\n",
      "C:\\Users\\Onur\\Anaconda3\\lib\\site-packages\\scipy\\stats\\_distn_infrastructure.py:901: RuntimeWarning: invalid value encountered in greater\n",
      "  return (a < x) & (x < b)\n",
      "C:\\Users\\Onur\\Anaconda3\\lib\\site-packages\\scipy\\stats\\_distn_infrastructure.py:901: RuntimeWarning: invalid value encountered in less\n",
      "  return (a < x) & (x < b)\n",
      "C:\\Users\\Onur\\Anaconda3\\lib\\site-packages\\scipy\\stats\\_distn_infrastructure.py:1892: RuntimeWarning: invalid value encountered in less_equal\n",
      "  cond2 = cond0 & (x <= _a)\n"
     ]
    }
   ],
   "source": [
    "from statsmodels.tsa.arima_model import ARIMA\n",
    "import numpy as np\n",
    "\n",
    "def difference(dataset, interval=1):\n",
    "    diff = list()\n",
    "    for i in range(interval, len(dataset)):\n",
    "        value = dataset[i] - dataset[i - interval]\n",
    "        diff.append(value)\n",
    "    return np.array(diff)\n",
    "\n",
    "series = pd.read_csv('dataset_turkey.csv', header=None)\n",
    "#X değişkeni tahmin edilecek veriler\n",
    "X = series[1].values\n",
    "X = X[1:]\n",
    "X = X.astype(np.float)\n",
    "days_in_year = 365\n",
    "differenced = difference(X, days_in_year)\n",
    "#verilerimizi modele oturtuyoruz\n",
    "model = ARIMA(differenced, order=(7,0,7))\n",
    "model_fit = model.fit(disp=0)\n",
    "\n",
    "print(model_fit.summary())"
   ]
  },
  {
   "cell_type": "code",
   "execution_count": 23,
   "metadata": {},
   "outputs": [
    {
     "data": {
      "text/plain": [
       "array([-20.06200359])"
      ]
     },
     "execution_count": 23,
     "metadata": {},
     "output_type": "execute_result"
    }
   ],
   "source": [
    "forecast = model_fit.forecast()[0]\n",
    "forecast"
   ]
  },
  {
   "cell_type": "code",
   "execution_count": 24,
   "metadata": {},
   "outputs": [
    {
     "name": "stdout",
     "output_type": "stream",
     "text": [
      "Forecast: 3.474996\n"
     ]
    }
   ],
   "source": [
    "forecast = inverse_difference(X, forecast, days_in_year)\n",
    "print('Forecast: %f' % forecast)"
   ]
  },
  {
   "cell_type": "code",
   "execution_count": 25,
   "metadata": {},
   "outputs": [],
   "source": [
    "forecast = model_fit.forecast(steps=36)[0]"
   ]
  },
  {
   "cell_type": "code",
   "execution_count": 27,
   "metadata": {
    "collapsed": true,
    "jupyter": {
     "outputs_hidden": true
    }
   },
   "outputs": [
    {
     "name": "stdout",
     "output_type": "stream",
     "text": [
      "Month 1: 3.474996\n",
      "Month 2: 3.386196\n",
      "Month 3: 5.550561\n",
      "Month 4: 11.468430\n",
      "Month 5: 15.884929\n",
      "Month 6: 19.240984\n",
      "Month 7: 23.014208\n",
      "Month 8: 22.234290\n",
      "Month 9: 18.145797\n",
      "Month 10: 13.070965\n",
      "Month 11: 7.925098\n",
      "Month 12: 4.778280\n",
      "Month 13: 1.499560\n",
      "Month 14: 0.921634\n",
      "Month 15: 5.708597\n",
      "Month 16: 11.258404\n",
      "Month 17: 16.924289\n",
      "Month 18: 22.347617\n",
      "Month 19: 24.866104\n",
      "Month 20: 24.639225\n",
      "Month 21: 18.306031\n",
      "Month 22: 11.190768\n",
      "Month 23: 7.892851\n",
      "Month 24: 3.653758\n",
      "Month 25: 1.348186\n",
      "Month 26: 2.823874\n",
      "Month 27: 7.341038\n",
      "Month 28: 8.634324\n",
      "Month 29: 18.785935\n",
      "Month 30: 21.937682\n",
      "Month 31: 21.992804\n",
      "Month 32: 21.584908\n",
      "Month 33: 19.397454\n",
      "Month 34: 13.060962\n",
      "Month 35: 7.073438\n",
      "Month 36: 1.588718\n"
     ]
    }
   ],
   "source": [
    "import pandas as pd\n",
    "history = [x for x in X]\n",
    "month = 1\n",
    "predicted = np.array([])\n",
    "validate = pd.read_csv(r\"validation_turkey.csv\")\n",
    "for yhat in forecast:\n",
    "    inverted = inverse_difference(history, yhat, days_in_year)\n",
    "    predicted = np.append(predicted,inverted)\n",
    "    print('Month %d: %f' % (month, inverted))\n",
    "    history.append(inverted)\n",
    "    month += 1"
   ]
  },
  {
   "cell_type": "code",
   "execution_count": 41,
   "metadata": {},
   "outputs": [
    {
     "data": {
      "text/plain": [
       "[<matplotlib.lines.Line2D at 0x24fd5116ec8>]"
      ]
     },
     "execution_count": 41,
     "metadata": {},
     "output_type": "execute_result"
    },
    {
     "data": {
      "image/png": "[encoded data removed]",
      "text/plain": [
       "<Figure size 432x288 with 1 Axes>"
      ]
     },
     "metadata": {
      "needs_background": "light"
     },
     "output_type": "display_data"
    }
   ],
   "source": [
    "import matplotlib.pyplot as plt\n",
    "import pandas as pd\n",
    "validate = pd.read_csv(r\"validation_turkey.csv\")\n",
    "validate = validate.iloc[1:]\n",
    "val = validate[\"AverageTemperature\"].values\n",
    "plt.plot(predicted,color=\"red\")\n",
    "plt.plot(val)"
   ]
  },
  {
   "cell_type": "code",
   "execution_count": 29,
   "metadata": {},
   "outputs": [
    {
     "data": {
      "text/plain": [
       "array([ 3.47,  3.39,  5.55, 11.47, 15.88, 19.24, 23.01, 22.23, 18.15,\n",
       "       13.07,  7.93,  4.78,  1.5 ,  0.92,  5.71, 11.26, 16.92, 22.35,\n",
       "       24.87, 24.64, 18.31, 11.19,  7.89,  3.65,  1.35,  2.82,  7.34,\n",
       "        8.63, 18.79, 21.94, 21.99, 21.58, 19.4 , 13.06,  7.07,  1.59])"
      ]
     },
     "execution_count": 29,
     "metadata": {},
     "output_type": "execute_result"
    }
   ],
   "source": [
    "predicted = np.round_(predicted, decimals = 2)\n",
    "predicted"
   ]
  },
  {
   "cell_type": "code",
   "execution_count": 30,
   "metadata": {},
   "outputs": [],
   "source": [
    "dates = pd.read_csv('turkey.csv', header=0)\n",
    "data = pd.read_csv('validation_turkey.csv', header=0)"
   ]
  },
  {
   "cell_type": "code",
   "execution_count": 31,
   "metadata": {},
   "outputs": [],
   "source": [
    "dates = dates.drop([\"AverageTemperature\",\"Country\"],axis = 1)"
   ]
  },
  {
   "cell_type": "code",
   "execution_count": 32,
   "metadata": {},
   "outputs": [],
   "source": [
    "dates = dates.loc[:, ~dates.columns.str.match('Unnamed')]"
   ]
  },
  {
   "cell_type": "code",
   "execution_count": 33,
   "metadata": {},
   "outputs": [],
   "source": [
    "dates = dates.iloc[-36:]"
   ]
  },
  {
   "cell_type": "code",
   "execution_count": 34,
   "metadata": {},
   "outputs": [],
   "source": [
    "dates.index = pd.RangeIndex(len(dates.index))\n",
    "\n",
    "dates.index = range(len(dates.index))"
   ]
  },
  {
   "cell_type": "code",
   "execution_count": 38,
   "metadata": {
    "collapsed": true,
    "jupyter": {
     "outputs_hidden": true
    }
   },
   "outputs": [
    {
     "ename": "KeyError",
     "evalue": "\"['AverageTemperature' 'Country'] not found in axis\"",
     "output_type": "error",
     "traceback": [
      "\u001b[1;31m---------------------------------------------------------------------------\u001b[0m",
      "\u001b[1;31mKeyError\u001b[0m                                  Traceback (most recent call last)",
      "\u001b[1;32m<ipython-input-38-8cd64dadab19>\u001b[0m in \u001b[0;36m<module>\u001b[1;34m\u001b[0m\n\u001b[1;32m----> 1\u001b[1;33m \u001b[0mdata\u001b[0m \u001b[1;33m=\u001b[0m \u001b[0mdata\u001b[0m\u001b[1;33m.\u001b[0m\u001b[0mdrop\u001b[0m\u001b[1;33m(\u001b[0m\u001b[1;33m[\u001b[0m\u001b[1;34m\"AverageTemperature\"\u001b[0m\u001b[1;33m,\u001b[0m\u001b[1;34m\"Country\"\u001b[0m\u001b[1;33m]\u001b[0m\u001b[1;33m,\u001b[0m\u001b[0maxis\u001b[0m \u001b[1;33m=\u001b[0m \u001b[1;36m1\u001b[0m\u001b[1;33m)\u001b[0m\u001b[1;33m\u001b[0m\u001b[1;33m\u001b[0m\u001b[0m\n\u001b[0m",
      "\u001b[1;32m~\\Anaconda3\\lib\\site-packages\\pandas\\core\\frame.py\u001b[0m in \u001b[0;36mdrop\u001b[1;34m(self, labels, axis, index, columns, level, inplace, errors)\u001b[0m\n\u001b[0;32m   4100\u001b[0m             \u001b[0mlevel\u001b[0m\u001b[1;33m=\u001b[0m\u001b[0mlevel\u001b[0m\u001b[1;33m,\u001b[0m\u001b[1;33m\u001b[0m\u001b[1;33m\u001b[0m\u001b[0m\n\u001b[0;32m   4101\u001b[0m             \u001b[0minplace\u001b[0m\u001b[1;33m=\u001b[0m\u001b[0minplace\u001b[0m\u001b[1;33m,\u001b[0m\u001b[1;33m\u001b[0m\u001b[1;33m\u001b[0m\u001b[0m\n\u001b[1;32m-> 4102\u001b[1;33m             \u001b[0merrors\u001b[0m\u001b[1;33m=\u001b[0m\u001b[0merrors\u001b[0m\u001b[1;33m,\u001b[0m\u001b[1;33m\u001b[0m\u001b[1;33m\u001b[0m\u001b[0m\n\u001b[0m\u001b[0;32m   4103\u001b[0m         )\n\u001b[0;32m   4104\u001b[0m \u001b[1;33m\u001b[0m\u001b[0m\n",
      "\u001b[1;32m~\\Anaconda3\\lib\\site-packages\\pandas\\core\\generic.py\u001b[0m in \u001b[0;36mdrop\u001b[1;34m(self, labels, axis, index, columns, level, inplace, errors)\u001b[0m\n\u001b[0;32m   3912\u001b[0m         \u001b[1;32mfor\u001b[0m \u001b[0maxis\u001b[0m\u001b[1;33m,\u001b[0m \u001b[0mlabels\u001b[0m \u001b[1;32min\u001b[0m \u001b[0maxes\u001b[0m\u001b[1;33m.\u001b[0m\u001b[0mitems\u001b[0m\u001b[1;33m(\u001b[0m\u001b[1;33m)\u001b[0m\u001b[1;33m:\u001b[0m\u001b[1;33m\u001b[0m\u001b[1;33m\u001b[0m\u001b[0m\n\u001b[0;32m   3913\u001b[0m             \u001b[1;32mif\u001b[0m \u001b[0mlabels\u001b[0m \u001b[1;32mis\u001b[0m \u001b[1;32mnot\u001b[0m \u001b[1;32mNone\u001b[0m\u001b[1;33m:\u001b[0m\u001b[1;33m\u001b[0m\u001b[1;33m\u001b[0m\u001b[0m\n\u001b[1;32m-> 3914\u001b[1;33m                 \u001b[0mobj\u001b[0m \u001b[1;33m=\u001b[0m \u001b[0mobj\u001b[0m\u001b[1;33m.\u001b[0m\u001b[0m_drop_axis\u001b[0m\u001b[1;33m(\u001b[0m\u001b[0mlabels\u001b[0m\u001b[1;33m,\u001b[0m \u001b[0maxis\u001b[0m\u001b[1;33m,\u001b[0m \u001b[0mlevel\u001b[0m\u001b[1;33m=\u001b[0m\u001b[0mlevel\u001b[0m\u001b[1;33m,\u001b[0m \u001b[0merrors\u001b[0m\u001b[1;33m=\u001b[0m\u001b[0merrors\u001b[0m\u001b[1;33m)\u001b[0m\u001b[1;33m\u001b[0m\u001b[1;33m\u001b[0m\u001b[0m\n\u001b[0m\u001b[0;32m   3915\u001b[0m \u001b[1;33m\u001b[0m\u001b[0m\n\u001b[0;32m   3916\u001b[0m         \u001b[1;32mif\u001b[0m \u001b[0minplace\u001b[0m\u001b[1;33m:\u001b[0m\u001b[1;33m\u001b[0m\u001b[1;33m\u001b[0m\u001b[0m\n",
      "\u001b[1;32m~\\Anaconda3\\lib\\site-packages\\pandas\\core\\generic.py\u001b[0m in \u001b[0;36m_drop_axis\u001b[1;34m(self, labels, axis, level, errors)\u001b[0m\n\u001b[0;32m   3944\u001b[0m                 \u001b[0mnew_axis\u001b[0m \u001b[1;33m=\u001b[0m \u001b[0maxis\u001b[0m\u001b[1;33m.\u001b[0m\u001b[0mdrop\u001b[0m\u001b[1;33m(\u001b[0m\u001b[0mlabels\u001b[0m\u001b[1;33m,\u001b[0m \u001b[0mlevel\u001b[0m\u001b[1;33m=\u001b[0m\u001b[0mlevel\u001b[0m\u001b[1;33m,\u001b[0m \u001b[0merrors\u001b[0m\u001b[1;33m=\u001b[0m\u001b[0merrors\u001b[0m\u001b[1;33m)\u001b[0m\u001b[1;33m\u001b[0m\u001b[1;33m\u001b[0m\u001b[0m\n\u001b[0;32m   3945\u001b[0m             \u001b[1;32melse\u001b[0m\u001b[1;33m:\u001b[0m\u001b[1;33m\u001b[0m\u001b[1;33m\u001b[0m\u001b[0m\n\u001b[1;32m-> 3946\u001b[1;33m                 \u001b[0mnew_axis\u001b[0m \u001b[1;33m=\u001b[0m \u001b[0maxis\u001b[0m\u001b[1;33m.\u001b[0m\u001b[0mdrop\u001b[0m\u001b[1;33m(\u001b[0m\u001b[0mlabels\u001b[0m\u001b[1;33m,\u001b[0m \u001b[0merrors\u001b[0m\u001b[1;33m=\u001b[0m\u001b[0merrors\u001b[0m\u001b[1;33m)\u001b[0m\u001b[1;33m\u001b[0m\u001b[1;33m\u001b[0m\u001b[0m\n\u001b[0m\u001b[0;32m   3947\u001b[0m             \u001b[0mresult\u001b[0m \u001b[1;33m=\u001b[0m \u001b[0mself\u001b[0m\u001b[1;33m.\u001b[0m\u001b[0mreindex\u001b[0m\u001b[1;33m(\u001b[0m\u001b[1;33m**\u001b[0m\u001b[1;33m{\u001b[0m\u001b[0maxis_name\u001b[0m\u001b[1;33m:\u001b[0m \u001b[0mnew_axis\u001b[0m\u001b[1;33m}\u001b[0m\u001b[1;33m)\u001b[0m\u001b[1;33m\u001b[0m\u001b[1;33m\u001b[0m\u001b[0m\n\u001b[0;32m   3948\u001b[0m \u001b[1;33m\u001b[0m\u001b[0m\n",
      "\u001b[1;32m~\\Anaconda3\\lib\\site-packages\\pandas\\core\\indexes\\base.py\u001b[0m in \u001b[0;36mdrop\u001b[1;34m(self, labels, errors)\u001b[0m\n\u001b[0;32m   5338\u001b[0m         \u001b[1;32mif\u001b[0m \u001b[0mmask\u001b[0m\u001b[1;33m.\u001b[0m\u001b[0many\u001b[0m\u001b[1;33m(\u001b[0m\u001b[1;33m)\u001b[0m\u001b[1;33m:\u001b[0m\u001b[1;33m\u001b[0m\u001b[1;33m\u001b[0m\u001b[0m\n\u001b[0;32m   5339\u001b[0m             \u001b[1;32mif\u001b[0m \u001b[0merrors\u001b[0m \u001b[1;33m!=\u001b[0m \u001b[1;34m\"ignore\"\u001b[0m\u001b[1;33m:\u001b[0m\u001b[1;33m\u001b[0m\u001b[1;33m\u001b[0m\u001b[0m\n\u001b[1;32m-> 5340\u001b[1;33m                 \u001b[1;32mraise\u001b[0m \u001b[0mKeyError\u001b[0m\u001b[1;33m(\u001b[0m\u001b[1;34m\"{} not found in axis\"\u001b[0m\u001b[1;33m.\u001b[0m\u001b[0mformat\u001b[0m\u001b[1;33m(\u001b[0m\u001b[0mlabels\u001b[0m\u001b[1;33m[\u001b[0m\u001b[0mmask\u001b[0m\u001b[1;33m]\u001b[0m\u001b[1;33m)\u001b[0m\u001b[1;33m)\u001b[0m\u001b[1;33m\u001b[0m\u001b[1;33m\u001b[0m\u001b[0m\n\u001b[0m\u001b[0;32m   5341\u001b[0m             \u001b[0mindexer\u001b[0m \u001b[1;33m=\u001b[0m \u001b[0mindexer\u001b[0m\u001b[1;33m[\u001b[0m\u001b[1;33m~\u001b[0m\u001b[0mmask\u001b[0m\u001b[1;33m]\u001b[0m\u001b[1;33m\u001b[0m\u001b[1;33m\u001b[0m\u001b[0m\n\u001b[0;32m   5342\u001b[0m         \u001b[1;32mreturn\u001b[0m \u001b[0mself\u001b[0m\u001b[1;33m.\u001b[0m\u001b[0mdelete\u001b[0m\u001b[1;33m(\u001b[0m\u001b[0mindexer\u001b[0m\u001b[1;33m)\u001b[0m\u001b[1;33m\u001b[0m\u001b[1;33m\u001b[0m\u001b[0m\n",
      "\u001b[1;31mKeyError\u001b[0m: \"['AverageTemperature' 'Country'] not found in axis\""
     ]
    }
   ],
   "source": [
    "data = data.drop([\"AverageTemperature\",\"Country\"],axis = 1)"
   ]
  },
  {
   "cell_type": "code",
   "execution_count": 39,
   "metadata": {},
   "outputs": [],
   "source": [
    "dates[\"predicted\"] = predicted"
   ]
  },
  {
   "cell_type": "code",
   "execution_count": 40,
   "metadata": {},
   "outputs": [],
   "source": [
    "dates.to_csv(r'turkey_result.csv')"
   ]
  },
  {
   "cell_type": "code",
   "execution_count": 40,
   "metadata": {},
   "outputs": [],
   "source": [
    "dates1 = dates[\"dt\"]"
   ]
  },
  {
   "cell_type": "code",
   "execution_count": 41,
   "metadata": {
    "collapsed": true,
    "jupyter": {
     "outputs_hidden": true
    }
   },
   "outputs": [
    {
     "data": {
      "text/plain": [
       "0     2010-01-01\n",
       "1     2010-02-01\n",
       "2     2010-03-01\n",
       "3     2010-04-01\n",
       "4     2010-05-01\n",
       "5     2010-06-01\n",
       "6     2010-07-01\n",
       "7     2010-08-01\n",
       "8     2010-09-01\n",
       "9     2010-10-01\n",
       "10    2010-11-01\n",
       "11    2010-12-01\n",
       "12    2011-01-01\n",
       "13    2011-02-01\n",
       "14    2011-03-01\n",
       "15    2011-04-01\n",
       "16    2011-05-01\n",
       "17    2011-06-01\n",
       "18    2011-07-01\n",
       "19    2011-08-01\n",
       "20    2011-09-01\n",
       "21    2011-10-01\n",
       "22    2011-11-01\n",
       "23    2011-12-01\n",
       "24    2012-01-01\n",
       "25    2012-02-01\n",
       "26    2012-03-01\n",
       "27    2012-04-01\n",
       "28    2012-05-01\n",
       "29    2012-06-01\n",
       "30    2012-07-01\n",
       "31    2012-08-01\n",
       "32    2012-09-01\n",
       "33    2012-10-01\n",
       "34    2012-11-01\n",
       "35    2012-12-01\n",
       "Name: dt, dtype: object"
      ]
     },
     "execution_count": 41,
     "metadata": {},
     "output_type": "execute_result"
    }
   ],
   "source": [
    "dates1"
   ]
  },
  {
   "cell_type": "code",
   "execution_count": 42,
   "metadata": {},
   "outputs": [],
   "source": [
    "spark.stop()"
   ]
  },
  {
   "cell_type": "code",
   "execution_count": 44,
   "metadata": {},
   "outputs": [],
   "source": [
    "forecast2 = model_fit.forecast(steps = 120)[0]"
   ]
  },
  {
   "cell_type": "code",
   "execution_count": 46,
   "metadata": {
    "collapsed": true,
    "jupyter": {
     "outputs_hidden": true
    }
   },
   "outputs": [
    {
     "name": "stdout",
     "output_type": "stream",
     "text": [
      "Month 1: 3.474996\n",
      "Month 2: 3.386196\n",
      "Month 3: 5.550561\n",
      "Month 4: 11.468430\n",
      "Month 5: 15.884929\n",
      "Month 6: 19.240984\n",
      "Month 7: 23.014208\n",
      "Month 8: 22.234290\n",
      "Month 9: 18.145797\n",
      "Month 10: 13.070965\n",
      "Month 11: 7.925098\n",
      "Month 12: 4.778280\n",
      "Month 13: 1.499560\n",
      "Month 14: 0.921634\n",
      "Month 15: 5.708597\n",
      "Month 16: 11.258404\n",
      "Month 17: 16.924289\n",
      "Month 18: 22.347617\n",
      "Month 19: 24.866104\n",
      "Month 20: 24.639225\n",
      "Month 21: 18.306031\n",
      "Month 22: 11.190768\n",
      "Month 23: 7.892851\n",
      "Month 24: 3.653758\n",
      "Month 25: 1.348186\n",
      "Month 26: 2.823874\n",
      "Month 27: 7.341038\n",
      "Month 28: 8.634324\n",
      "Month 29: 18.785935\n",
      "Month 30: 21.937682\n",
      "Month 31: 21.992804\n",
      "Month 32: 21.584908\n",
      "Month 33: 19.397454\n",
      "Month 34: 13.060962\n",
      "Month 35: 7.073438\n",
      "Month 36: 1.588718\n",
      "Month 37: 0.589767\n",
      "Month 38: 2.714871\n",
      "Month 39: 5.055755\n",
      "Month 40: 8.336375\n",
      "Month 41: 15.573624\n",
      "Month 42: 18.640910\n",
      "Month 43: 22.873576\n",
      "Month 44: 22.773047\n",
      "Month 45: 19.664145\n",
      "Month 46: 13.806855\n",
      "Month 47: 6.529515\n",
      "Month 48: 3.012011\n",
      "Month 49: 0.148234\n",
      "Month 50: 1.751634\n",
      "Month 51: 4.107071\n",
      "Month 52: 10.604581\n",
      "Month 53: 16.700364\n",
      "Month 54: 23.273808\n",
      "Month 55: 25.386935\n",
      "Month 56: 23.789478\n",
      "Month 57: 17.785617\n",
      "Month 58: 13.405821\n",
      "Month 59: 7.300655\n",
      "Month 60: 2.948234\n",
      "Month 61: -0.827253\n",
      "Month 62: 3.129288\n",
      "Month 63: 5.757563\n",
      "Month 64: 10.251657\n",
      "Month 65: 13.417167\n",
      "Month 66: 23.032609\n",
      "Month 67: 21.306438\n",
      "Month 68: 21.068824\n",
      "Month 69: 20.123101\n",
      "Month 70: 15.043744\n",
      "Month 71: 7.750885\n",
      "Month 72: 2.005421\n",
      "Month 73: 2.713228\n",
      "Month 74: 1.889937\n",
      "Month 75: 3.187113\n",
      "Month 76: 12.111723\n",
      "Month 77: 15.724918\n",
      "Month 78: 22.445420\n",
      "Month 79: 25.113987\n",
      "Month 80: 23.475168\n",
      "Month 81: 20.935528\n",
      "Month 82: 11.249679\n",
      "Month 83: 7.203161\n",
      "Month 84: 4.070605\n",
      "Month 85: 3.111654\n",
      "Month 86: 3.593597\n",
      "Month 87: 4.861712\n",
      "Month 88: 7.638784\n",
      "Month 89: 14.354616\n",
      "Month 90: 21.879239\n",
      "Month 91: 25.664585\n",
      "Month 92: 18.854504\n",
      "Month 93: 17.316904\n",
      "Month 94: 13.269622\n",
      "Month 95: 7.492487\n",
      "Month 96: 3.971782\n",
      "Month 97: 0.827031\n",
      "Month 98: 2.359264\n",
      "Month 99: 3.888360\n",
      "Month 100: 9.411838\n",
      "Month 101: 15.353265\n",
      "Month 102: 20.823066\n",
      "Month 103: 23.769233\n",
      "Month 104: 22.079833\n",
      "Month 105: 18.836231\n",
      "Month 106: 13.358572\n",
      "Month 107: 7.183863\n",
      "Month 108: 3.974952\n",
      "Month 109: 1.675359\n",
      "Month 110: 1.834939\n",
      "Month 111: 4.418058\n",
      "Month 112: 6.674884\n",
      "Month 113: 15.756865\n",
      "Month 114: 17.692900\n",
      "Month 115: 22.522929\n",
      "Month 116: 25.163154\n",
      "Month 117: 23.204509\n",
      "Month 118: 13.950530\n",
      "Month 119: 7.558287\n",
      "Month 120: 4.004114\n"
     ]
    }
   ],
   "source": [
    "import pandas as pd\n",
    "history = [x for x in X]\n",
    "month = 1\n",
    "predicted = np.array([])\n",
    "validate = pd.read_csv(r\"validation.csv\")\n",
    "for yhat in forecast2:\n",
    "    inverted = inverse_difference(history, yhat, days_in_year)\n",
    "    predicted = np.append(predicted,inverted)\n",
    "    print('Month %d: %f' % (month, inverted))\n",
    "    history.append(inverted)\n",
    "    month += 1"
   ]
  },
  {
   "cell_type": "code",
   "execution_count": 47,
   "metadata": {
    "collapsed": true,
    "jupyter": {
     "outputs_hidden": true
    }
   },
   "outputs": [
    {
     "data": {
      "text/plain": [
       "array([ 3.47499641,  3.38619597,  5.55056149, 11.46843044, 15.88492861,\n",
       "       19.24098355, 23.01420768, 22.23428971, 18.14579728, 13.07096452,\n",
       "        7.92509829,  4.77828023,  1.4995605 ,  0.92163381,  5.70859699,\n",
       "       11.25840424, 16.92428942, 22.3476167 , 24.86610426, 24.63922531,\n",
       "       18.3060313 , 11.19076768,  7.89285124,  3.65375768,  1.34818641,\n",
       "        2.82387376,  7.34103818,  8.63432407, 18.78593482, 21.937682  ,\n",
       "       21.99280418, 21.58490819, 19.39745384, 13.06096224,  7.07343762,\n",
       "        1.58871845,  0.58976702,  2.7148712 ,  5.05575458,  8.33637477,\n",
       "       15.57362434, 18.64090956, 22.87357562, 22.77304738, 19.66414525,\n",
       "       13.8068555 ,  6.52951475,  3.01201119,  0.14823424,  1.7516339 ,\n",
       "        4.10707084, 10.60458079, 16.70036372, 23.2738079 , 25.38693517,\n",
       "       23.78947826, 17.78561704, 13.40582121,  7.30065458,  2.94823359,\n",
       "       -0.82725314,  3.1292877 ,  5.75756317, 10.2516566 , 13.41716689,\n",
       "       23.03260859, 21.30643793, 21.06882396, 20.12310079, 15.04374367,\n",
       "        7.75088477,  2.00542051,  2.71322777,  1.88993679,  3.18711341,\n",
       "       12.11172293, 15.72491768, 22.44541979, 25.11398682, 23.47516758,\n",
       "       20.93552776, 11.24967911,  7.20316066,  4.07060492,  3.11165412,\n",
       "        3.59359687,  4.86171158,  7.63878407, 14.35461622, 21.8792394 ,\n",
       "       25.66458503, 18.85450411, 17.31690413, 13.26962201,  7.49248686,\n",
       "        3.97178193,  0.8270309 ,  2.3592643 ,  3.88836001,  9.41183755,\n",
       "       15.3532651 , 20.82306604, 23.76923288, 22.07983287, 18.83623096,\n",
       "       13.35857223,  7.18386268,  3.97495164,  1.6753586 ,  1.83493934,\n",
       "        4.41805778,  6.67488359, 15.75686478, 17.69289995, 22.52292949,\n",
       "       25.163154  , 23.20450879, 13.95052992,  7.55828735,  4.00411409])"
      ]
     },
     "execution_count": 47,
     "metadata": {},
     "output_type": "execute_result"
    }
   ],
   "source": [
    "predicted"
   ]
  },
  {
   "cell_type": "code",
   "execution_count": 48,
   "metadata": {},
   "outputs": [],
   "source": [
    "series2 = pd.DataFrame([])"
   ]
  },
  {
   "cell_type": "code",
   "execution_count": 49,
   "metadata": {},
   "outputs": [],
   "source": [
    "series2[\"PredictedValue\"] = np.around(predicted, decimals=2)"
   ]
  },
  {
   "cell_type": "code",
   "execution_count": 50,
   "metadata": {},
   "outputs": [],
   "source": [
    "dates = np.array([\"2010-01\"])"
   ]
  },
  {
   "cell_type": "code",
   "execution_count": 51,
   "metadata": {},
   "outputs": [],
   "source": [
    "year = 2010\n",
    "month = 2"
   ]
  },
  {
   "cell_type": "code",
   "execution_count": 52,
   "metadata": {},
   "outputs": [],
   "source": [
    "while year<=2019:\n",
    "    parse_dates = str(year)+\"-\"+str(month)\n",
    "    dates = np.append(dates,parse_dates)\n",
    "    if month >=12:\n",
    "        month = 1\n",
    "        year+= 1\n",
    "    else:\n",
    "        month+=1\n"
   ]
  },
  {
   "cell_type": "code",
   "execution_count": 53,
   "metadata": {
    "collapsed": true,
    "jupyter": {
     "outputs_hidden": true
    }
   },
   "outputs": [
    {
     "data": {
      "text/plain": [
       "array(['2010-01', '2010-2', '2010-3', '2010-4', '2010-5', '2010-6',\n",
       "       '2010-7', '2010-8', '2010-9', '2010-10', '2010-11', '2010-12',\n",
       "       '2011-1', '2011-2', '2011-3', '2011-4', '2011-5', '2011-6',\n",
       "       '2011-7', '2011-8', '2011-9', '2011-10', '2011-11', '2011-12',\n",
       "       '2012-1', '2012-2', '2012-3', '2012-4', '2012-5', '2012-6',\n",
       "       '2012-7', '2012-8', '2012-9', '2012-10', '2012-11', '2012-12',\n",
       "       '2013-1', '2013-2', '2013-3', '2013-4', '2013-5', '2013-6',\n",
       "       '2013-7', '2013-8', '2013-9', '2013-10', '2013-11', '2013-12',\n",
       "       '2014-1', '2014-2', '2014-3', '2014-4', '2014-5', '2014-6',\n",
       "       '2014-7', '2014-8', '2014-9', '2014-10', '2014-11', '2014-12',\n",
       "       '2015-1', '2015-2', '2015-3', '2015-4', '2015-5', '2015-6',\n",
       "       '2015-7', '2015-8', '2015-9', '2015-10', '2015-11', '2015-12',\n",
       "       '2016-1', '2016-2', '2016-3', '2016-4', '2016-5', '2016-6',\n",
       "       '2016-7', '2016-8', '2016-9', '2016-10', '2016-11', '2016-12',\n",
       "       '2017-1', '2017-2', '2017-3', '2017-4', '2017-5', '2017-6',\n",
       "       '2017-7', '2017-8', '2017-9', '2017-10', '2017-11', '2017-12',\n",
       "       '2018-1', '2018-2', '2018-3', '2018-4', '2018-5', '2018-6',\n",
       "       '2018-7', '2018-8', '2018-9', '2018-10', '2018-11', '2018-12',\n",
       "       '2019-1', '2019-2', '2019-3', '2019-4', '2019-5', '2019-6',\n",
       "       '2019-7', '2019-8', '2019-9', '2019-10', '2019-11', '2019-12'],\n",
       "      dtype='<U7')"
      ]
     },
     "execution_count": 53,
     "metadata": {},
     "output_type": "execute_result"
    }
   ],
   "source": [
    "dates"
   ]
  },
  {
   "cell_type": "code",
   "execution_count": 54,
   "metadata": {},
   "outputs": [],
   "source": [
    "series3 = pd.DataFrame([])"
   ]
  },
  {
   "cell_type": "code",
   "execution_count": 55,
   "metadata": {},
   "outputs": [],
   "source": [
    "series3[\"dates\"] = dates"
   ]
  },
  {
   "cell_type": "code",
   "execution_count": 56,
   "metadata": {},
   "outputs": [],
   "source": [
    "series3[\"predicted_value\"] = series2[\"PredictedValue\"]"
   ]
  },
  {
   "cell_type": "code",
   "execution_count": 57,
   "metadata": {
    "collapsed": true,
    "jupyter": {
     "outputs_hidden": true
    }
   },
   "outputs": [
    {
     "data": {
      "text/html": [
       "<div>\n",
       "<style scoped>\n",
       "    .dataframe tbody tr th:only-of-type {\n",
       "        vertical-align: middle;\n",
       "    }\n",
       "\n",
       "    .dataframe tbody tr th {\n",
       "        vertical-align: top;\n",
       "    }\n",
       "\n",
       "    .dataframe thead th {\n",
       "        text-align: right;\n",
       "    }\n",
       "</style>\n",
       "<table border=\"1\" class=\"dataframe\">\n",
       "  <thead>\n",
       "    <tr style=\"text-align: right;\">\n",
       "      <th></th>\n",
       "      <th>dates</th>\n",
       "      <th>predicted_value</th>\n",
       "    </tr>\n",
       "  </thead>\n",
       "  <tbody>\n",
       "    <tr>\n",
       "      <td>0</td>\n",
       "      <td>2010-01</td>\n",
       "      <td>3.47</td>\n",
       "    </tr>\n",
       "    <tr>\n",
       "      <td>1</td>\n",
       "      <td>2010-2</td>\n",
       "      <td>3.39</td>\n",
       "    </tr>\n",
       "    <tr>\n",
       "      <td>2</td>\n",
       "      <td>2010-3</td>\n",
       "      <td>5.55</td>\n",
       "    </tr>\n",
       "    <tr>\n",
       "      <td>3</td>\n",
       "      <td>2010-4</td>\n",
       "      <td>11.47</td>\n",
       "    </tr>\n",
       "    <tr>\n",
       "      <td>4</td>\n",
       "      <td>2010-5</td>\n",
       "      <td>15.88</td>\n",
       "    </tr>\n",
       "    <tr>\n",
       "      <td>...</td>\n",
       "      <td>...</td>\n",
       "      <td>...</td>\n",
       "    </tr>\n",
       "    <tr>\n",
       "      <td>115</td>\n",
       "      <td>2019-8</td>\n",
       "      <td>25.16</td>\n",
       "    </tr>\n",
       "    <tr>\n",
       "      <td>116</td>\n",
       "      <td>2019-9</td>\n",
       "      <td>23.20</td>\n",
       "    </tr>\n",
       "    <tr>\n",
       "      <td>117</td>\n",
       "      <td>2019-10</td>\n",
       "      <td>13.95</td>\n",
       "    </tr>\n",
       "    <tr>\n",
       "      <td>118</td>\n",
       "      <td>2019-11</td>\n",
       "      <td>7.56</td>\n",
       "    </tr>\n",
       "    <tr>\n",
       "      <td>119</td>\n",
       "      <td>2019-12</td>\n",
       "      <td>4.00</td>\n",
       "    </tr>\n",
       "  </tbody>\n",
       "</table>\n",
       "<p>120 rows × 2 columns</p>\n",
       "</div>"
      ],
      "text/plain": [
       "       dates  predicted_value\n",
       "0    2010-01             3.47\n",
       "1     2010-2             3.39\n",
       "2     2010-3             5.55\n",
       "3     2010-4            11.47\n",
       "4     2010-5            15.88\n",
       "..       ...              ...\n",
       "115   2019-8            25.16\n",
       "116   2019-9            23.20\n",
       "117  2019-10            13.95\n",
       "118  2019-11             7.56\n",
       "119  2019-12             4.00\n",
       "\n",
       "[120 rows x 2 columns]"
      ]
     },
     "execution_count": 57,
     "metadata": {},
     "output_type": "execute_result"
    }
   ],
   "source": [
    "series3"
   ]
  },
  {
   "cell_type": "code",
   "execution_count": 58,
   "metadata": {},
   "outputs": [],
   "source": [
    "series3.to_csv(r'turkey_long_results.csv')"
   ]
  },
  {
   "cell_type": "code",
   "execution_count": null,
   "metadata": {},
   "outputs": [],
   "source": []
  }
 ],
 "metadata": {
  "kernelspec": {
   "display_name": "Python 3",
   "language": "python",
   "name": "python3"
  },
  "language_info": {
   "codemirror_mode": {
    "name": "ipython",
    "version": 3
   },
   "file_extension": ".py",
   "mimetype": "text/x-python",
   "name": "python",
   "nbconvert_exporter": "python",
   "pygments_lexer": "ipython3",
   "version": "3.7.4"
  }
 },
 "nbformat": 4,
 "nbformat_minor": 4
}
