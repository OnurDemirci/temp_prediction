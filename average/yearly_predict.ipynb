{
 "cells": [
  {
   "cell_type": "code",
   "execution_count": 93,
   "metadata": {},
   "outputs": [
    {
     "data": {
      "image/png": "[encoded data removed]",
      "text/plain": [
       "<Figure size 432x288 with 1 Axes>"
      ]
     },
     "metadata": {
      "needs_background": "light"
     },
     "output_type": "display_data"
    },
    {
     "data": {
      "text/plain": [
       "3072"
      ]
     },
     "execution_count": 93,
     "metadata": {},
     "output_type": "execute_result"
    }
   ],
   "source": [
    "import pandas as pd\n",
    "import numpy as np\n",
    "from matplotlib import pyplot as plt\n",
    "#dataseti çağırdık ve kullanmayacağımız satırları sildik\n",
    "series = read_csv('GlobalTemperatures.csv', header=0)\n",
    "series = series.iloc[120:]\n",
    "series = series.drop(['LandAverageTemperatureUncertainty',\n",
    "       'LandMaxTemperature', 'LandMaxTemperatureUncertainty',\n",
    "       'LandMinTemperature', 'LandMinTemperatureUncertainty',\n",
    "       'LandAndOceanAverageTemperature',\n",
    "       'LandAndOceanAverageTemperatureUncertainty'],axis = 1)\n",
    "#dataset grafiği oluşturduk\n",
    "series.plot()\n",
    "plt.show()\n",
    "len(series)"
   ]
  },
  {
   "cell_type": "code",
   "execution_count": 94,
   "metadata": {},
   "outputs": [],
   "source": [
    "series['dt'] =  pd.to_datetime(series['dt'], infer_datetime_format=True)"
   ]
  },
  {
   "cell_type": "code",
   "execution_count": 95,
   "metadata": {},
   "outputs": [
    {
     "data": {
      "text/html": [
       "<div>\n",
       "<style scoped>\n",
       "    .dataframe tbody tr th:only-of-type {\n",
       "        vertical-align: middle;\n",
       "    }\n",
       "\n",
       "    .dataframe tbody tr th {\n",
       "        vertical-align: top;\n",
       "    }\n",
       "\n",
       "    .dataframe thead th {\n",
       "        text-align: right;\n",
       "    }\n",
       "</style>\n",
       "<table border=\"1\" class=\"dataframe\">\n",
       "  <thead>\n",
       "    <tr style=\"text-align: right;\">\n",
       "      <th></th>\n",
       "      <th>dt</th>\n",
       "      <th>LandAverageTemperature</th>\n",
       "    </tr>\n",
       "  </thead>\n",
       "  <tbody>\n",
       "    <tr>\n",
       "      <td>120</td>\n",
       "      <td>1760-01-01</td>\n",
       "      <td>-0.811</td>\n",
       "    </tr>\n",
       "    <tr>\n",
       "      <td>121</td>\n",
       "      <td>1760-02-01</td>\n",
       "      <td>2.436</td>\n",
       "    </tr>\n",
       "    <tr>\n",
       "      <td>122</td>\n",
       "      <td>1760-03-01</td>\n",
       "      <td>1.864</td>\n",
       "    </tr>\n",
       "    <tr>\n",
       "      <td>123</td>\n",
       "      <td>1760-04-01</td>\n",
       "      <td>7.436</td>\n",
       "    </tr>\n",
       "    <tr>\n",
       "      <td>124</td>\n",
       "      <td>1760-05-01</td>\n",
       "      <td>10.661</td>\n",
       "    </tr>\n",
       "    <tr>\n",
       "      <td>...</td>\n",
       "      <td>...</td>\n",
       "      <td>...</td>\n",
       "    </tr>\n",
       "    <tr>\n",
       "      <td>3187</td>\n",
       "      <td>2015-08-01</td>\n",
       "      <td>14.755</td>\n",
       "    </tr>\n",
       "    <tr>\n",
       "      <td>3188</td>\n",
       "      <td>2015-09-01</td>\n",
       "      <td>12.999</td>\n",
       "    </tr>\n",
       "    <tr>\n",
       "      <td>3189</td>\n",
       "      <td>2015-10-01</td>\n",
       "      <td>10.801</td>\n",
       "    </tr>\n",
       "    <tr>\n",
       "      <td>3190</td>\n",
       "      <td>2015-11-01</td>\n",
       "      <td>7.433</td>\n",
       "    </tr>\n",
       "    <tr>\n",
       "      <td>3191</td>\n",
       "      <td>2015-12-01</td>\n",
       "      <td>5.518</td>\n",
       "    </tr>\n",
       "  </tbody>\n",
       "</table>\n",
       "<p>3072 rows × 2 columns</p>\n",
       "</div>"
      ],
      "text/plain": [
       "             dt  LandAverageTemperature\n",
       "120  1760-01-01                  -0.811\n",
       "121  1760-02-01                   2.436\n",
       "122  1760-03-01                   1.864\n",
       "123  1760-04-01                   7.436\n",
       "124  1760-05-01                  10.661\n",
       "...         ...                     ...\n",
       "3187 2015-08-01                  14.755\n",
       "3188 2015-09-01                  12.999\n",
       "3189 2015-10-01                  10.801\n",
       "3190 2015-11-01                   7.433\n",
       "3191 2015-12-01                   5.518\n",
       "\n",
       "[3072 rows x 2 columns]"
      ]
     },
     "execution_count": 95,
     "metadata": {},
     "output_type": "execute_result"
    }
   ],
   "source": [
    "series"
   ]
  },
  {
   "cell_type": "code",
   "execution_count": 96,
   "metadata": {},
   "outputs": [],
   "source": [
    "series[\"year\"] = pd.DatetimeIndex(series['dt']).year"
   ]
  },
  {
   "cell_type": "code",
   "execution_count": 97,
   "metadata": {},
   "outputs": [],
   "source": [
    "series = series.groupby(\"year\").mean()"
   ]
  },
  {
   "cell_type": "code",
   "execution_count": 98,
   "metadata": {},
   "outputs": [
    {
     "name": "stdout",
     "output_type": "stream",
     "text": [
      "Dataset 206, Validation 50\n"
     ]
    }
   ],
   "source": [
    "split_point = len(series) - 50\n",
    "dataset, validation = series[0:split_point], series[split_point:]\n",
    "print('Dataset %d, Validation %d' % (len(dataset), len(validation)))\n",
    "#dataset.to_csv('dataset.csv', index=False)\n",
    "validation.round(3)\n",
    "dataset.to_csv('dataset_year.csv', index=False)\n",
    "validation.to_csv('validation_year.csv', index=False)"
   ]
  },
  {
   "cell_type": "code",
   "execution_count": 99,
   "metadata": {},
   "outputs": [],
   "source": [
    "def inverse_difference(history, yhat, interval=1):\n",
    "\treturn yhat + history[-interval]"
   ]
  },
  {
   "cell_type": "code",
   "execution_count": 100,
   "metadata": {},
   "outputs": [
    {
     "name": "stdout",
     "output_type": "stream",
     "text": [
      "                              ARMA Model Results                              \n",
      "==============================================================================\n",
      "Dep. Variable:                      y   No. Observations:                  192\n",
      "Model:                     ARMA(7, 1)   Log Likelihood                -101.919\n",
      "Method:                       css-mle   S.D. of innovations              0.410\n",
      "Date:                Sat, 28 Dec 2019   AIC                            223.838\n",
      "Time:                        05:50:12   BIC                            256.413\n",
      "Sample:                             0   HQIC                           237.031\n",
      "                                                                              \n",
      "==============================================================================\n",
      "                 coef    std err          z      P>|z|      [0.025      0.975]\n",
      "------------------------------------------------------------------------------\n",
      "const          0.0294      0.037      0.804      0.422      -0.042       0.101\n",
      "ar.L1.y        1.3037      0.095     13.784      0.000       1.118       1.489\n",
      "ar.L2.y       -0.3341      0.128     -2.614      0.010      -0.585      -0.084\n",
      "ar.L3.y       -0.0661      0.130     -0.508      0.612      -0.321       0.189\n",
      "ar.L4.y        0.0288      0.130      0.222      0.824      -0.225       0.283\n",
      "ar.L5.y        0.1129      0.129      0.872      0.384      -0.141       0.367\n",
      "ar.L6.y       -0.1197      0.129     -0.932      0.353      -0.372       0.132\n",
      "ar.L7.y       -0.0847      0.083     -1.016      0.311      -0.248       0.079\n",
      "ma.L1.y       -0.8094      0.065    -12.443      0.000      -0.937      -0.682\n",
      "                                    Roots                                    \n",
      "=============================================================================\n",
      "                  Real          Imaginary           Modulus         Frequency\n",
      "-----------------------------------------------------------------------------\n",
      "AR.1            1.0104           -0.2454j            1.0398           -0.0379\n",
      "AR.2            1.0104           +0.2454j            1.0398            0.0379\n",
      "AR.3            0.5669           -1.1684j            1.2986           -0.1781\n",
      "AR.4            0.5669           +1.1684j            1.2986            0.1781\n",
      "AR.5           -1.1280           -1.2366j            1.6738           -0.3677\n",
      "AR.6           -1.1280           +1.2366j            1.6738            0.3677\n",
      "AR.7           -2.3121           -0.0000j            2.3121           -0.5000\n",
      "MA.1            1.2355           +0.0000j            1.2355            0.0000\n",
      "-----------------------------------------------------------------------------\n"
     ]
    }
   ],
   "source": [
    "from statsmodels.tsa.arima_model import ARIMA\n",
    "import numpy as np\n",
    "\n",
    "def difference(dataset, interval=1):\n",
    "    diff = list()\n",
    "    for i in range(interval, len(dataset)):\n",
    "        value = dataset[i] - dataset[i - interval]\n",
    "        diff.append(value)\n",
    "    return np.array(diff)\n",
    "\n",
    "series1 = read_csv('dataset_year.csv', header=None)\n",
    "#X değişkeni tahmin edilecek veriler\n",
    "X = series1.values\n",
    "X = X[3:]\n",
    "X = X.astype(np.float)\n",
    "days_in_year = 12\n",
    "differenced = difference(X, days_in_year)\n",
    "#verilerimizi modele oturtuyoruz\n",
    "model = ARIMA(differenced, order=(7,0,1))\n",
    "model_fit = model.fit(disp=0)\n",
    "\n",
    "print(model_fit.summary())"
   ]
  },
  {
   "cell_type": "code",
   "execution_count": 101,
   "metadata": {},
   "outputs": [
    {
     "data": {
      "text/plain": [
       "array([-0.09666769])"
      ]
     },
     "execution_count": 101,
     "metadata": {},
     "output_type": "execute_result"
    }
   ],
   "source": [
    "forecast = model_fit.forecast()[0]\n",
    "forecast"
   ]
  },
  {
   "cell_type": "code",
   "execution_count": 102,
   "metadata": {},
   "outputs": [
    {
     "name": "stdout",
     "output_type": "stream",
     "text": [
      "Forecast: 8.463999\n"
     ]
    }
   ],
   "source": [
    "forecast = inverse_difference(X, forecast, days_in_year)\n",
    "print('Forecast: %f' % forecast)"
   ]
  },
  {
   "cell_type": "code",
   "execution_count": 103,
   "metadata": {},
   "outputs": [],
   "source": [
    "forecast = model_fit.forecast(steps=50)[0]"
   ]
  },
  {
   "cell_type": "code",
   "execution_count": 104,
   "metadata": {},
   "outputs": [
    {
     "name": "stdout",
     "output_type": "stream",
     "text": [
      "Year 1: 8.463999\n",
      "Year 2: 8.673902\n",
      "Year 3: 8.357578\n",
      "Year 4: 8.733729\n",
      "Year 5: 8.716779\n",
      "Year 6: 8.708765\n",
      "Year 7: 8.624739\n",
      "Year 8: 8.878854\n",
      "Year 9: 8.829446\n",
      "Year 10: 8.925860\n",
      "Year 11: 8.477337\n",
      "Year 12: 8.606099\n",
      "Year 13: 8.552714\n",
      "Year 14: 8.761725\n",
      "Year 15: 8.434867\n",
      "Year 16: 8.798428\n",
      "Year 17: 8.771594\n",
      "Year 18: 8.755573\n",
      "Year 19: 8.662705\n",
      "Year 20: 8.906325\n",
      "Year 21: 8.846349\n",
      "Year 22: 8.934129\n",
      "Year 23: 8.479664\n",
      "Year 24: 8.604759\n",
      "Year 25: 8.549394\n",
      "Year 26: 8.758007\n",
      "Year 27: 8.432541\n",
      "Year 28: 8.799332\n",
      "Year 29: 8.777241\n",
      "Year 30: 8.766939\n",
      "Year 31: 8.680273\n",
      "Year 32: 8.930219\n",
      "Year 33: 8.876408\n",
      "Year 34: 8.969898\n",
      "Year 35: 8.520383\n",
      "Year 36: 8.649411\n",
      "Year 37: 8.596808\n",
      "Year 38: 8.806959\n",
      "Year 39: 8.481829\n",
      "Year 40: 8.847828\n",
      "Year 41: 8.823938\n",
      "Year 42: 8.811001\n",
      "Year 43: 8.721070\n",
      "Year 44: 8.967358\n",
      "Year 45: 8.909730\n",
      "Year 46: 8.999471\n",
      "Year 47: 8.546474\n",
      "Year 48: 8.672463\n",
      "Year 49: 8.617400\n",
      "Year 50: 8.825763\n"
     ]
    }
   ],
   "source": [
    "history = [x for x in X]\n",
    "month = 1\n",
    "predicted = np.array([])\n",
    "validate = pd.read_csv(r\"validation.csv\")\n",
    "for yhat in forecast:\n",
    "    inverted = inverse_difference(history, yhat, days_in_year)\n",
    "    predicted = np.append(predicted,inverted)\n",
    "    print('Year %d: %f' % (month, inverted))\n",
    "    history.append(inverted)\n",
    "    month += 1"
   ]
  },
  {
   "cell_type": "code",
   "execution_count": 105,
   "metadata": {},
   "outputs": [
    {
     "data": {
      "text/plain": [
       "[<matplotlib.lines.Line2D at 0x19846461c08>]"
      ]
     },
     "execution_count": 105,
     "metadata": {},
     "output_type": "execute_result"
    },
    {
     "data": {
      "image/png": "[encoded data removed]",
      "text/plain": [
       "<Figure size 432x288 with 1 Axes>"
      ]
     },
     "metadata": {
      "needs_background": "light"
     },
     "output_type": "display_data"
    }
   ],
   "source": [
    "validate = pd.read_csv(r\"validation_year.csv\")\n",
    "val = validate.values\n",
    "plt.plot(predicted,color=\"red\")\n",
    "plt.plot(validate)"
   ]
  },
  {
   "cell_type": "code",
   "execution_count": 106,
   "metadata": {},
   "outputs": [
    {
     "data": {
      "text/plain": [
       "array([8.46, 8.67, 8.36, 8.73, 8.72, 8.71, 8.62, 8.88, 8.83, 8.93, 8.48,\n",
       "       8.61, 8.55, 8.76, 8.43, 8.8 , 8.77, 8.76, 8.66, 8.91, 8.85, 8.93,\n",
       "       8.48, 8.6 , 8.55, 8.76, 8.43, 8.8 , 8.78, 8.77, 8.68, 8.93, 8.88,\n",
       "       8.97, 8.52, 8.65, 8.6 , 8.81, 8.48, 8.85, 8.82, 8.81, 8.72, 8.97,\n",
       "       8.91, 9.  , 8.55, 8.67, 8.62, 8.83])"
      ]
     },
     "execution_count": 106,
     "metadata": {},
     "output_type": "execute_result"
    }
   ],
   "source": [
    "predicted = np.round_(predicted, decimals = 2)\n",
    "predicted"
   ]
  },
  {
   "cell_type": "code",
   "execution_count": 134,
   "metadata": {},
   "outputs": [
    {
     "data": {
      "text/plain": [
       "array(['1966', '1967', '1968', '1969', '1970', '1971', '1972', '1973',\n",
       "       '1974', '1975', '1976', '1977', '1978', '1979', '1980', '1981',\n",
       "       '1982', '1983', '1984', '1985', '1986', '1987', '1988', '1989',\n",
       "       '1990', '1991', '1992', '1993', '1994', '1995', '1996', '1997',\n",
       "       '1998', '1999', '2000', '2001', '2002', '2003', '2004', '2005',\n",
       "       '2006', '2007', '2008', '2009', '2010', '2011', '2012', '2013',\n",
       "       '2014', '2015'], dtype='<U21')"
      ]
     },
     "execution_count": 134,
     "metadata": {},
     "output_type": "execute_result"
    }
   ],
   "source": [
    "years = np.array(series.index[-50:])\n",
    "years = years.astype(np.str)\n",
    "years"
   ]
  },
  {
   "cell_type": "code",
   "execution_count": 112,
   "metadata": {},
   "outputs": [],
   "source": [
    "validation = validation.round(3)"
   ]
  },
  {
   "cell_type": "code",
   "execution_count": 124,
   "metadata": {},
   "outputs": [],
   "source": [
    "val1 = np.array(validation.values)"
   ]
  },
  {
   "cell_type": "code",
   "execution_count": 131,
   "metadata": {},
   "outputs": [],
   "source": [
    "pd1 = pd.DataFrame([])"
   ]
  },
  {
   "cell_type": "code",
   "execution_count": 135,
   "metadata": {},
   "outputs": [],
   "source": [
    "pd1[\"year\"] = years"
   ]
  },
  {
   "cell_type": "code",
   "execution_count": 136,
   "metadata": {},
   "outputs": [],
   "source": [
    "pd1[\"real_temp\"] = val1"
   ]
  },
  {
   "cell_type": "code",
   "execution_count": 138,
   "metadata": {},
   "outputs": [],
   "source": [
    "pd1[\"predicted\"] = predicted"
   ]
  },
  {
   "cell_type": "code",
   "execution_count": 140,
   "metadata": {},
   "outputs": [],
   "source": [
    "pd1.to_csv(r'year_result.csv')"
   ]
  },
  {
   "cell_type": "code",
   "execution_count": null,
   "metadata": {},
   "outputs": [],
   "source": []
  }
 ],
 "metadata": {
  "kernelspec": {
   "display_name": "Python 3",
   "language": "python",
   "name": "python3"
  },
  "language_info": {
   "codemirror_mode": {
    "name": "ipython",
    "version": 3
   },
   "file_extension": ".py",
   "mimetype": "text/x-python",
   "name": "python",
   "nbconvert_exporter": "python",
   "pygments_lexer": "ipython3",
   "version": "3.7.4"
  }
 },
 "nbformat": 4,
 "nbformat_minor": 4
}
